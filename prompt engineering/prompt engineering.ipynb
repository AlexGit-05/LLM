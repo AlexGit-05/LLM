{
 "cells": [
  {
   "cell_type": "code",
   "execution_count": null,
   "id": "491891ad-2b91-4d08-9b0e-459f40f72bff",
   "metadata": {},
   "outputs": [],
   "source": [
    "#Installing required packages\n",
    "#pip install langchain==0.0.344 huggingface_hub transformers accelerate\n",
    "#!pip install vertexai!pip install google.generativeai"
   ]
  },
  {
   "cell_type": "code",
   "execution_count": null,
   "id": "9f3215d2-6dac-47f1-95c7-fb4afd38aee5",
   "metadata": {},
   "outputs": [],
   "source": [
    "#Importing libraries\n",
    "import pandas as pd\n",
    "from langchain import PromptTemplate, HuggingFaceHub, LLMChain\n",
    "import os\n",
    "import warnings\n",
    "\n",
    "# To ignore all warnings\n",
    "warnings.filterwarnings(\"ignore\")\n",
    "os.environ['HUGGINGFACEHUB_API_TOKEN'] = 'Api_Key'"
   ]
  },
  {
   "cell_type": "code",
   "execution_count": 3,
   "id": "67b2753d-7928-42ed-a680-198fbccf4478",
   "metadata": {},
   "outputs": [],
   "source": [
    "template = \"\"\"Description: {description}\n",
    "\n",
    "Instructions: Please read the message description column and assign a SINGLE OR MULTIPLE categories that seem to be a good fit. If you decide to pick multiple categories, then separate each category with a comma(,). The categories have been defined below-\n",
    "Category ‘Emergency’: If one or multiple the following does fit the message description – ‘Highly Vulnerable’, ‘Medical Emergency’, ‘People Trapped’ and ‘fire’, then assign the category ‘Emergency’\n",
    "Category ‘Vital Lines’: If one or multiple the following does fit the message description – ‘Food shortage’, ‘Water Shortage’, ‘Contaminated Water’, ‘Shelter Needed’, ‘Fuel Shortage’ and ‘Power Shortage’, then assign the category ‘Vital Lines’\n",
    "Category ‘Public Health’: If one or multiple the following does fit the message description - ‘Infectious Human Disease’, ‘Chronic Care Needs’, ‘Medical Equipment and Supply’, ‘Women’s Health’, ‘Psychiatric Need’ and ‘Animal Illness/Death’, then assign the category ‘Public Health’\n",
    "Category ‘Security Threats’: If one or multiple the following does fit the message description - ‘Looting’, ‘Theft of aid’, ‘Group Violence’, ‘Riot’ and ‘Water Sanitation and hygiene Promotion’, then assign the category ‘Security Threats’\n",
    "Category ‘Infrastructure Damage’: If one or multiple the following does fit the message description - ‘Collapsed Structure’, ‘Unstable Structure’, ‘Road Blocked’, ‘Compromised Bridge’ and ‘Communication Lines Down’, then assign the category ‘Infrastructure Damage’\n",
    "Category ‘Natural Hazards’: If one or multiple the following does fit the message description - ‘Deaths’, ‘Missing Persons/Landslides’ and ‘Earthquakes and aftershocks’ then assign the category ‘‘Natural Hazards’\n",
    "Category ‘Services Available’: If one or multiple the following does fit the message description – ‘Food Distribution point’, ‘Water Distribution Point’, ‘Nonfood Aid Distribution Point’, ‘Hospital/Clinics Operating’, ‘Feeding Centers Available’, ‘Shelter Offered’, ‘Human Remains Management’, ‘Rubble Removal’, ‘Financial Services Available’, ‘Internet Access’ and ‘Port open’, then assign the category ‘Services Available’\n",
    "Category ‘Other’: If one or multiple the following does fit the message description – ‘IDP Concentration’, ‘Aid Manipulation’, ‘Price Gouging’, ‘Search and rescue’ and ‘Persons News’, then assign the category ‘Other’\n",
    "PLEASE DO NOT ASSIGN CATEGORIES APART FROM THE ABOVE STATED 8 CATEFORIES AND DO REMEMBER TO ASSIGN MUTLITPLE CATEGORIES (IF APPLICABLE). \n",
    "\n",
    "Result: Category(s)\"\"\"\n",
    "\n",
    "prompt = PromptTemplate(template=template, input_variables=['description'])"
   ]
  },
  {
   "cell_type": "code",
   "execution_count": 4,
   "id": "f228d996-f92d-44c6-b64a-18895f81fcfb",
   "metadata": {},
   "outputs": [],
   "source": [
    "des = \"Birthing Clinic in Jacmel #Haiti urgently needs a O- blood transfusion 4 woman who just gave birth. please see Via @coreyrateau (Twitter)\""
   ]
  },
  {
   "cell_type": "code",
   "execution_count": 5,
   "id": "1810c3d3-0454-4c38-9a04-0f88c800c447",
   "metadata": {},
   "outputs": [],
   "source": [
    "# Mistral Model 8*7 v0.1\n",
    "llm_mistral1 = LLMChain(prompt=prompt,\n",
    "                    llm=HuggingFaceHub(repo_id=\"mistralai/Mixtral-8x7B-Instruct-v0.1\",\n",
    "                                      model_kwargs={\"temperature\":0.001,\n",
    "                                                   \"max_length\":64}))"
   ]
  },
  {
   "cell_type": "code",
   "execution_count": 6,
   "id": "0d118d2b-a3a8-456a-812a-81bb3dfd9aef",
   "metadata": {},
   "outputs": [
    {
     "name": "stdout",
     "output_type": "stream",
     "text": [
      " ‘Public Health’\n"
     ]
    }
   ],
   "source": [
    "print(llm_mistral1.run(des))"
   ]
  },
  {
   "cell_type": "code",
   "execution_count": 7,
   "id": "997fedba-2824-42df-b735-68aa02340b25",
   "metadata": {},
   "outputs": [],
   "source": [
    "# Mistral Model 7 v0.2\n",
    "llm_mistral2 = LLMChain(prompt=prompt,\n",
    "                    llm=HuggingFaceHub(repo_id=\"mistralai/Mistral-7B-Instruct-v0.2\",\n",
    "                                      model_kwargs={\"temperature\":0.001,\n",
    "                                                   \"max_length\":64}))"
   ]
  },
  {
   "cell_type": "code",
   "execution_count": 8,
   "id": "38e89c68-50de-4f5f-9d42-6cf0d220da7b",
   "metadata": {},
   "outputs": [
    {
     "name": "stdout",
     "output_type": "stream",
     "text": [
      " 'Public Health', 'Emergency'\n"
     ]
    }
   ],
   "source": [
    "print(llm_mistral2.run(des))"
   ]
  },
  {
   "cell_type": "code",
   "execution_count": 9,
   "id": "8f431dd5-74c2-4e0d-8a15-a64e7e7b4954",
   "metadata": {},
   "outputs": [],
   "source": [
    "# Falcon Model\n",
    "prompt = PromptTemplate(template=template, input_variables=['description'])\n",
    "\n",
    "llm_falcon = LLMChain(prompt=prompt,\n",
    "                    llm=HuggingFaceHub(repo_id=\"tiiuae/falcon-7b-instruct\",\n",
    "                                      model_kwargs={\"temperature\":0.001,\n",
    "                                                   \"max_length\":64}))"
   ]
  },
  {
   "cell_type": "code",
   "execution_count": 10,
   "id": "b4b86ed9-f7dc-460b-bc74-ded7dab9c12f",
   "metadata": {},
   "outputs": [
    {
     "name": "stdout",
     "output_type": "stream",
     "text": [
      " assigned to the message: ‘Emergency’\n",
      "\n"
     ]
    }
   ],
   "source": [
    "print(llm_falcon.run(des))"
   ]
  },
  {
   "cell_type": "code",
   "execution_count": 11,
   "id": "9ed35559-8962-4607-9fa9-b4f66cbaded0",
   "metadata": {},
   "outputs": [],
   "source": [
    "# Zephyr Model\n",
    "llm_zep = LLMChain(prompt=prompt,\n",
    "                    llm=HuggingFaceHub(repo_id=\"HuggingFaceH4/zephyr-7b-beta\",\n",
    "                                      model_kwargs={\"temperature\":0.001,\n",
    "                                                   \"max_length\":64}))"
   ]
  },
  {
   "cell_type": "code",
   "execution_count": 12,
   "id": "b8adc319-c354-4d29-8719-7162fcd54a99",
   "metadata": {},
   "outputs": [
    {
     "name": "stdout",
     "output_type": "stream",
     "text": [
      " assigned: Emergency, Public Health, Services Available\n"
     ]
    }
   ],
   "source": [
    "print(llm_zep.run(des))"
   ]
  },
  {
   "cell_type": "code",
   "execution_count": null,
   "id": "706f03f0-b228-433a-9d10-e14c5bc92f27",
   "metadata": {},
   "outputs": [
    {
     "data": {
      "text/plain": [
       "'Public Health'"
      ]
     },
     "execution_count": 14,
     "metadata": {},
     "output_type": "execute_result"
    }
   ],
   "source": [
    "# Gemini\n",
    "import google.generativeai as genai\n",
    "\n",
    "API_KEY = \"Api_Key\"\n",
    "genai.configure(api_key=API_KEY)\n",
    "#model\n",
    "\n",
    "model = genai.GenerativeModel(model_name=\"models/gemini-pro\")\n",
    "\n",
    "description = des\n",
    "\n",
    "instructions =  \"\"\"Please read the message description column and assign a SINGLE OR MULTIPLE categories that seem to be a good fit. If you decide to pick multiple categories, then separate each category with a comma(,). The categories have been defined below-\n",
    "Category ‘Emergency’: If one or multiple the following does fit the message description – ‘Highly Vulnerable’, ‘Medical Emergency’, ‘People Trapped’ and ‘fire’, then assign the category ‘Emergency’\n",
    "Category ‘Vital Lines’: If one or multiple the following does fit the message description – ‘Food shortage’, ‘Water Shortage’, ‘Contaminated Water’, ‘Shelter Needed’, ‘Fuel Shortage’ and ‘Power Shortage’, then assign the category ‘Vital Lines’\n",
    "Category ‘Public Health’: If one or multiple the following does fit the message description - ‘Infectious Human Disease’, ‘Chronic Care Needs’, ‘Medical Equipment and Supply’, ‘Women’s Health’, ‘Psychiatric Need’ and ‘Animal Illness/Death’, then assign the category ‘Public Health’\n",
    "Category ‘Security Threats’: If one or multiple the following does fit the message description - ‘Looting’, ‘Theft of aid’, ‘Group Violence’, ‘Riot’ and ‘Water Sanitation and hygiene Promotion’, then assign the category ‘Security Threats’\n",
    "Category ‘Infrastructure Damage’: If one or multiple the following does fit the message description - ‘Collapsed Structure’, ‘Unstable Structure’, ‘Road Blocked’, ‘Compromised Bridge’ and ‘Communication Lines Down’, then assign the category ‘Infrastructure Damage’\n",
    "Category ‘Natural Hazards’: If one or multiple the following does fit the message description - ‘Deaths’, ‘Missing Persons/Landslides’ and ‘Earthquakes and aftershocks’ then assign the category ‘‘Natural Hazards’\n",
    "Category ‘Services Available’: If one or multiple the following does fit the message description – ‘Food Distribution point’, ‘Water Distribution Point’, ‘Nonfood Aid Distribution Point’, ‘Hospital/Clinics Operating’, ‘Feeding Centers Available’, ‘Shelter Offered’, ‘Human Remains Management’, ‘Rubble Removal’, ‘Financial Services Available’, ‘Internet Access’ and ‘Port open’, then assign the category ‘Services Available’\n",
    "Category ‘Other’: If one or multiple the following does fit the message description – ‘IDP Concentration’, ‘Aid Manipulation’, ‘Price Gouging’, ‘Search and rescue’ and ‘Persons News’, then assign the category ‘Other’\n",
    "PLEASE DO NOT ASSIGN CATEGORIES APART FROM THE ABOVE STATED 8 CATEFORIES AND DO REMEMBER TO ASSIGN MUTLITPLE CATEGORIES (IF APPLICABLE).\n",
    "\"\"\"\n",
    "\n",
    "message = f\"Instructions:{instructions} Message description: {description}\"\n",
    "\n",
    "response = model.generate_content(message)\n",
    "\n",
    "response.text"
   ]
  },
  {
   "cell_type": "code",
   "execution_count": 17,
   "id": "c9026919-55e7-4aa2-81c8-5bec63fe7b8e",
   "metadata": {},
   "outputs": [],
   "source": [
    "df = pd.read_csv(\"Ushahidi Message.csv\")"
   ]
  },
  {
   "cell_type": "code",
   "execution_count": 1,
   "id": "dea55d0f-aa89-4b02-ab5b-922fc000fa08",
   "metadata": {},
   "outputs": [],
   "source": [
    "# Apply Mistral 8*7b v0.1 model to categorize messages\n",
    "df['CAT_Mistral(8*7 v0.1)'] = df['DESCRIPTION'].apply(lambda x: llm_mistral1.run(x))"
   ]
  },
  {
   "cell_type": "code",
   "execution_count": 2,
   "id": "58d6634d-27c2-4197-a6bf-8acdb898d34b",
   "metadata": {},
   "outputs": [],
   "source": [
    "# Apply Mistral 7b v 0.2 model to categorize messages\n",
    "df['CAT_Mistral(7 v0.2)'] = df['DESCRIPTION'].apply(lambda x: llm_mistral2.run(x))"
   ]
  },
  {
   "cell_type": "code",
   "execution_count": 25,
   "id": "31ace4fe-18b0-4aaa-aa5a-23ec4ac67a22",
   "metadata": {},
   "outputs": [],
   "source": [
    "# Apply Falcon model to categorize messages\n",
    "df['CAT_Falcon'] = df['DESCRIPTION'].apply(lambda x: llm_falcon.run(x))"
   ]
  },
  {
   "cell_type": "code",
   "execution_count": 19,
   "id": "c34fb860-549f-4103-ae24-e73919eda56f",
   "metadata": {},
   "outputs": [],
   "source": [
    "# Apply Zephyr model to categorize messages\n",
    "df['CAT_Zephyr'] = df['DESCRIPTION'].apply(lambda x: llm_zep.run(x))"
   ]
  },
  {
   "cell_type": "code",
   "execution_count": 29,
   "id": "7374590e-413d-4953-916c-8d62abc9a00f",
   "metadata": {},
   "outputs": [],
   "source": [
    "def generate_gemini_content(description):\n",
    "    try:\n",
    "        response = model.generate_content(\n",
    "            f\"Instructions:{instructions} Message description: {description}\",\n",
    "            generation_config=genai.types.GenerationConfig(\n",
    "                candidate_count=1,\n",
    "                stop_sequences=['x'],\n",
    "                max_output_tokens=64,\n",
    "                temperature=0.01\n",
    "            )\n",
    "        )\n",
    "        return response.text\n",
    "    except ValueError as e:\n",
    "        print(f\"Error generating content: {e}\")\n",
    "        return None\n",
    "\n",
    "# Apply Gemini model to categorize messages\n",
    "df['CAT_Gemini'] = df['DESCRIPTION'].apply(lambda x: generate_gemini_content(x))"
   ]
  },
  {
   "cell_type": "code",
   "execution_count": 30,
   "id": "ad3b7160-abda-42c3-a336-51f3e37f8472",
   "metadata": {},
   "outputs": [],
   "source": [
    "df.head(5)"
   ]
  },
  {
   "cell_type": "code",
   "execution_count": 63,
   "id": "64d42827-e57d-4aef-8fcd-566bb357b084",
   "metadata": {},
   "outputs": [],
   "source": [
    "#Import data\n",
    "data = pd.read_csv(\"Ushahidi Message Categorized.csv\")"
   ]
  },
  {
   "cell_type": "code",
   "execution_count": 64,
   "id": "a6eaa707-afdb-468e-8d4f-45bf4be318d7",
   "metadata": {},
   "outputs": [
    {
     "data": {
      "text/html": [
       "<div>\n",
       "<style scoped>\n",
       "    .dataframe tbody tr th:only-of-type {\n",
       "        vertical-align: middle;\n",
       "    }\n",
       "\n",
       "    .dataframe tbody tr th {\n",
       "        vertical-align: top;\n",
       "    }\n",
       "\n",
       "    .dataframe thead th {\n",
       "        text-align: right;\n",
       "    }\n",
       "</style>\n",
       "<table border=\"1\" class=\"dataframe\">\n",
       "  <thead>\n",
       "    <tr style=\"text-align: right;\">\n",
       "      <th></th>\n",
       "      <th>#</th>\n",
       "      <th>INCIDENT TITLE</th>\n",
       "      <th>INCIDENT DATE</th>\n",
       "      <th>LOCATION</th>\n",
       "      <th>DESCRIPTION</th>\n",
       "      <th>LATITUDE</th>\n",
       "      <th>LONGITUDE</th>\n",
       "      <th>APPROVED</th>\n",
       "      <th>VERIFIED</th>\n",
       "      <th>CAT_Mistral(8*7 v0.1)</th>\n",
       "      <th>CAT_Mistral(7 v0.2)</th>\n",
       "      <th>CAT_Falcon</th>\n",
       "      <th>CAT_Zephyr</th>\n",
       "      <th>CAT_Gemini</th>\n",
       "    </tr>\n",
       "  </thead>\n",
       "  <tbody>\n",
       "    <tr>\n",
       "      <th>0</th>\n",
       "      <td>4052</td>\n",
       "      <td>* URGENT * Type O blood donations needed in #J...</td>\n",
       "      <td>07/05/2010 17:26</td>\n",
       "      <td>Jacmel, Haiti</td>\n",
       "      <td>Birthing Clinic in Jacmel #Haiti urgently need...</td>\n",
       "      <td>18.233333</td>\n",
       "      <td>-72.533333</td>\n",
       "      <td>YES</td>\n",
       "      <td>NO</td>\n",
       "      <td>Public Health</td>\n",
       "      <td>Emergency Public Health</td>\n",
       "      <td>Emergency</td>\n",
       "      <td>Public Health Services Available Emergency</td>\n",
       "      <td>Public Health</td>\n",
       "    </tr>\n",
       "    <tr>\n",
       "      <th>1</th>\n",
       "      <td>4051</td>\n",
       "      <td>Food-Aid sent to Fondwa, Haiti</td>\n",
       "      <td>6/28/2010 23:06</td>\n",
       "      <td>fondwa</td>\n",
       "      <td>Please help food-aid.org deliver more food to ...</td>\n",
       "      <td>50.226029</td>\n",
       "      <td>5.729886</td>\n",
       "      <td>NO</td>\n",
       "      <td>NO</td>\n",
       "      <td>Services Available Vital Lines</td>\n",
       "      <td>Other Public Health Vital Lines</td>\n",
       "      <td>Infrastructure Damage Services Available Publi...</td>\n",
       "      <td>Emergency Natural Hazards Vital Lines</td>\n",
       "      <td>Vital Lines</td>\n",
       "    </tr>\n",
       "    <tr>\n",
       "      <th>2</th>\n",
       "      <td>4050</td>\n",
       "      <td>how haiti is right now and how it was during t...</td>\n",
       "      <td>6/24/2010 16:21</td>\n",
       "      <td>centrie</td>\n",
       "      <td>i feel so bad for you i know i am supposed to ...</td>\n",
       "      <td>22.278381</td>\n",
       "      <td>114.174287</td>\n",
       "      <td>NO</td>\n",
       "      <td>NO</td>\n",
       "      <td>Public Health Natural Hazards</td>\n",
       "      <td>Emergency Natural Hazards Vital Lines</td>\n",
       "      <td>Infrastructure Damage Services Available Publi...</td>\n",
       "      <td>Services Available Emergency Natural Hazards</td>\n",
       "      <td>Emergency, Natural Hazards</td>\n",
       "    </tr>\n",
       "    <tr>\n",
       "      <th>3</th>\n",
       "      <td>4049</td>\n",
       "      <td>Lost person</td>\n",
       "      <td>6/20/2010 21:59</td>\n",
       "      <td>Genoca</td>\n",
       "      <td>We are family members of Juan Antonio Zuniga O...</td>\n",
       "      <td>44.407062</td>\n",
       "      <td>8.933989</td>\n",
       "      <td>NO</td>\n",
       "      <td>NO</td>\n",
       "      <td>Emergency</td>\n",
       "      <td>Other</td>\n",
       "      <td>Emergency</td>\n",
       "      <td>Services Available Emergency Natural Hazards</td>\n",
       "      <td>Other</td>\n",
       "    </tr>\n",
       "    <tr>\n",
       "      <th>4</th>\n",
       "      <td>4042</td>\n",
       "      <td>Citi Soleil school</td>\n",
       "      <td>5/18/2010 16:26</td>\n",
       "      <td>Citi Soleil, Haiti</td>\n",
       "      <td>We are working with Haitian (NGO) -The Christi...</td>\n",
       "      <td>18.571084</td>\n",
       "      <td>-72.334671</td>\n",
       "      <td>YES</td>\n",
       "      <td>NO</td>\n",
       "      <td>Vital Lines Services Available Public Health I...</td>\n",
       "      <td>Services Available Infrastructure Damage</td>\n",
       "      <td>Emergency</td>\n",
       "      <td>Services Available Other Public Health Infrast...</td>\n",
       "      <td>Other</td>\n",
       "    </tr>\n",
       "  </tbody>\n",
       "</table>\n",
       "</div>"
      ],
      "text/plain": [
       "      #                                     INCIDENT TITLE     INCIDENT DATE  \\\n",
       "0  4052  * URGENT * Type O blood donations needed in #J...  07/05/2010 17:26   \n",
       "1  4051                     Food-Aid sent to Fondwa, Haiti   6/28/2010 23:06   \n",
       "2  4050  how haiti is right now and how it was during t...   6/24/2010 16:21   \n",
       "3  4049                                        Lost person   6/20/2010 21:59   \n",
       "4  4042                                 Citi Soleil school   5/18/2010 16:26   \n",
       "\n",
       "             LOCATION                                        DESCRIPTION  \\\n",
       "0       Jacmel, Haiti  Birthing Clinic in Jacmel #Haiti urgently need...   \n",
       "1              fondwa  Please help food-aid.org deliver more food to ...   \n",
       "2             centrie  i feel so bad for you i know i am supposed to ...   \n",
       "3              Genoca  We are family members of Juan Antonio Zuniga O...   \n",
       "4  Citi Soleil, Haiti  We are working with Haitian (NGO) -The Christi...   \n",
       "\n",
       "    LATITUDE   LONGITUDE APPROVED VERIFIED  \\\n",
       "0  18.233333  -72.533333      YES       NO   \n",
       "1  50.226029    5.729886       NO       NO   \n",
       "2  22.278381  114.174287       NO       NO   \n",
       "3  44.407062    8.933989       NO       NO   \n",
       "4  18.571084  -72.334671      YES       NO   \n",
       "\n",
       "                               CAT_Mistral(8*7 v0.1)  \\\n",
       "0                                      Public Health   \n",
       "1                     Services Available Vital Lines   \n",
       "2                      Public Health Natural Hazards   \n",
       "3                                          Emergency   \n",
       "4  Vital Lines Services Available Public Health I...   \n",
       "\n",
       "                        CAT_Mistral(7 v0.2)  \\\n",
       "0                   Emergency Public Health   \n",
       "1           Other Public Health Vital Lines   \n",
       "2     Emergency Natural Hazards Vital Lines   \n",
       "3                                     Other   \n",
       "4  Services Available Infrastructure Damage   \n",
       "\n",
       "                                          CAT_Falcon  \\\n",
       "0                                          Emergency   \n",
       "1  Infrastructure Damage Services Available Publi...   \n",
       "2  Infrastructure Damage Services Available Publi...   \n",
       "3                                          Emergency   \n",
       "4                                          Emergency   \n",
       "\n",
       "                                          CAT_Zephyr  \\\n",
       "0         Public Health Services Available Emergency   \n",
       "1              Emergency Natural Hazards Vital Lines   \n",
       "2       Services Available Emergency Natural Hazards   \n",
       "3       Services Available Emergency Natural Hazards   \n",
       "4  Services Available Other Public Health Infrast...   \n",
       "\n",
       "                   CAT_Gemini  \n",
       "0               Public Health  \n",
       "1                 Vital Lines  \n",
       "2  Emergency, Natural Hazards  \n",
       "3                       Other  \n",
       "4                       Other  "
      ]
     },
     "execution_count": 64,
     "metadata": {},
     "output_type": "execute_result"
    }
   ],
   "source": [
    "import re\n",
    "\n",
    "# List of categories\n",
    "categories = [\n",
    "    'Emergency',\n",
    "    'Vital Lines',\n",
    "    'Public Health',\n",
    "    'Security Threats',\n",
    "    'Infrastructure Damage',\n",
    "    'Natural Hazards',\n",
    "    'Services Available',\n",
    "    'Other'\n",
    "]\n",
    "\n",
    "# Function to clean the text\n",
    "def clean_text(text):\n",
    "    # Remove \"\\n\" and any word that follows it\n",
    "    cleaned_text = re.sub(r'\\n\\S*', '', text)\n",
    "    # Remove \"assigned:\" and symbols except commas\n",
    "    cleaned_text = re.sub(r'[^,\\w\\s]|assigned:', '', cleaned_text)\n",
    "    # Remove all words that do not start with a capital letter\n",
    "    cleaned_text = ' '.join([word for word in cleaned_text.split() if word[0].isupper()])\n",
    "    return cleaned_text\n",
    "\n",
    "# Clean text\n",
    "for col in data.iloc[:,9:13].columns:\n",
    "    data[col] = data[col].apply(clean_text)\n",
    "\n",
    "# Remove words not in categories list and remove duplicates\n",
    "for column in data.iloc[:,9:13].columns:\n",
    "    data[column] = data[column].apply(lambda x: ' '.join(set(re.findall(r'\\b(?:' + '|'.join(categories) + r')\\b', x))))\n",
    "\n",
    "data.head()"
   ]
  },
  {
   "cell_type": "code",
   "execution_count": 66,
   "id": "eaf6c15b-29d1-4c0f-9eeb-210de8d24ebb",
   "metadata": {},
   "outputs": [],
   "source": [
    "# Save the updated DataFrame\n",
    "data.to_csv(\"Ushahidi Message Categorized clean.csv\", index=False)"
   ]
  }
 ],
 "metadata": {
  "kernelspec": {
   "display_name": "Python 3 (ipykernel)",
   "language": "python",
   "name": "python3"
  },
  "language_info": {
   "codemirror_mode": {
    "name": "ipython",
    "version": 3
   },
   "file_extension": ".py",
   "mimetype": "text/x-python",
   "name": "python",
   "nbconvert_exporter": "python",
   "pygments_lexer": "ipython3",
   "version": "3.11.5"
  }
 },
 "nbformat": 4,
 "nbformat_minor": 5
}
